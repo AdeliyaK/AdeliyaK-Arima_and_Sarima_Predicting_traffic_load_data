{
 "cells": [
  {
   "cell_type": "code",
   "execution_count": 15,
   "id": "initial_id",
   "metadata": {
    "collapsed": true,
    "ExecuteTime": {
     "end_time": "2024-12-20T08:53:39.943450800Z",
     "start_time": "2024-12-20T08:53:39.934450700Z"
    }
   },
   "outputs": [],
   "source": [
    "import pandas as pd\n",
    "import glob"
   ]
  },
  {
   "cell_type": "code",
   "outputs": [],
   "source": [
    "csv_files=glob.glob('Sykr10sec/*.csv')\n",
    "dataframes=[]\n",
    "for file in csv_files:\n",
    "        df=pd.read_csv(file)\n",
    "        dataframes.append(df)\n",
    "merged_csv=pd.concat(dataframes,ignore_index=True)\n",
    "merged_csv.to_csv(\"../data_files/combined.csv\",index=False)"
   ],
   "metadata": {
    "collapsed": false,
    "ExecuteTime": {
     "end_time": "2024-12-20T08:54:04.760009300Z",
     "start_time": "2024-12-20T08:53:40.382718600Z"
    }
   },
   "id": "524e4d21e27a879",
   "execution_count": 16
  },
  {
   "cell_type": "code",
   "source": [
    "excel_files = glob.glob('Sykr10sec/*.xlsx') \n",
    "dataframes = []\n",
    "for file in excel_files:\n",
    "    df = pd.read_excel(file, engine=\"openpyxl\")  # Четене на Excel файл\n",
    "    dataframes.append(df)\n",
    "merged_excel = pd.concat(dataframes, ignore_index=True)\n",
    "merged_excel.to_excel(\"../data_files/combined.xlsx\", index=False, engine=\"openpyxl\")"
   ],
   "metadata": {
    "collapsed": false
   },
   "id": "62f9d6dc49c7b03e",
   "outputs": [],
   "execution_count": null
  },
  {
   "cell_type": "code",
   "outputs": [],
   "source": [],
   "metadata": {
    "collapsed": false,
    "ExecuteTime": {
     "end_time": "2024-12-20T08:17:55.252251700Z",
     "start_time": "2024-12-20T08:17:50.787258300Z"
    }
   },
   "id": "c0f9700ee64479f9",
   "execution_count": 8
  },
  {
   "cell_type": "code",
   "outputs": [],
   "source": [],
   "metadata": {
    "collapsed": false,
    "ExecuteTime": {
     "end_time": "2024-12-20T08:18:04.408528700Z",
     "start_time": "2024-12-20T08:17:55.253252100Z"
    }
   },
   "id": "4d1131cb18447dee",
   "execution_count": 9
  },
  {
   "cell_type": "code",
   "outputs": [],
   "source": [],
   "metadata": {
    "collapsed": false
   },
   "id": "d8311d81da469cea",
   "execution_count": null
  }
 ],
 "metadata": {
  "kernelspec": {
   "display_name": "Python 3",
   "language": "python",
   "name": "python3"
  },
  "language_info": {
   "codemirror_mode": {
    "name": "ipython",
    "version": 2
   },
   "file_extension": ".py",
   "mimetype": "text/x-python",
   "name": "python",
   "nbconvert_exporter": "python",
   "pygments_lexer": "ipython2",
   "version": "2.7.6"
  }
 },
 "nbformat": 4,
 "nbformat_minor": 5
}
