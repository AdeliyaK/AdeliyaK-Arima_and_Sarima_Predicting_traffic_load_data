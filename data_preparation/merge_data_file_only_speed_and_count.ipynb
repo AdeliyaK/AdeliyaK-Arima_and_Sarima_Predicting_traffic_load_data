{
 "cells": [
  {
   "cell_type": "code",
   "id": "initial_id",
   "metadata": {
    "collapsed": true,
    "ExecuteTime": {
     "end_time": "2024-12-21T16:28:19.496080Z",
     "start_time": "2024-12-21T16:28:19.117435Z"
    }
   },
   "source": "import pandas as pd",
   "outputs": [],
   "execution_count": 1
  },
  {
   "metadata": {
    "ExecuteTime": {
     "end_time": "2024-12-22T10:15:20.182962Z",
     "start_time": "2024-12-22T10:15:18.944295Z"
    }
   },
   "cell_type": "code",
   "source": [
    "import pandas as pd\n",
    "import warnings\n",
    "warnings.filterwarnings(\"ignore\")\n",
    "\n",
    "def summarize_traffic_data(input_file, output_file, resample_period):\n",
    "    \"\"\"\n",
    "    Функция за обобщение на данни за трафик.\n",
    "\n",
    "    :param input_file: Път до входния CSV файл с оригинални данни.\n",
    "    :param output_file: Път до изходния CSV файл със съкратени данни.\n",
    "    :param resample_period: Период за агрегация (например '30min', '1H', '2H').\n",
    "    \"\"\"\n",
    "    # Зареждане на данните\n",
    "    df = pd.read_csv(input_file, parse_dates=['date'], dayfirst=True)\n",
    "    \n",
    "    # Проверка дали колоната \"дата\" е налична\n",
    "    if 'date' not in df.columns:\n",
    "        raise ValueError(\"Колоната 'Дата' не е намерена в файла. Уверете се, че имената на колоните са правилни.\")\n",
    "    \n",
    "    # Задаване на колоната \"дата\" като индекс\n",
    "    df.set_index('date', inplace=True)\n",
    "    \n",
    "    # Проверка за правилен формат на времето\n",
    "    if not pd.api.types.is_datetime64_any_dtype(df.index):\n",
    "        raise ValueError(\"Колоната 'Дата' трябва да е във формат на дата и час.\")\n",
    "    \n",
    "    # Групиране на данните по зададения период\n",
    "    summary = df.resample(resample_period).agg({\n",
    "        'Скорост': 'mean',  # Средна скорост\n",
    "        'Рег. номер': 'count'  # Брой автомобили (чрез броя на регистрационните номера)\n",
    "    }).rename(columns={'Скорост': 'Средна скорост', 'Рег. номер': 'Брой автомобили'})\n",
    "\n",
    "    # Запис на съкратените данни в нов файл\n",
    "    summary.to_csv(output_file)\n",
    "    print(f\"Обобщените данни са записани в {output_file}.\")\n"
   ],
   "id": "e8cd50cfcd21d6fc",
   "outputs": [],
   "execution_count": 1
  },
  {
   "metadata": {
    "ExecuteTime": {
     "end_time": "2024-12-22T10:15:58.486457Z",
     "start_time": "2024-12-22T10:15:49.502018Z"
    }
   },
   "cell_type": "code",
   "source": [
    "# Входен файл с оригинални данни\n",
    "input_file = \"../data_files/combined.csv\"\n",
    "\n",
    "# Изходен файл със съкратени данни\n",
    "output_file = \"../result_data_files/summarized_traffic_data_1H.csv\"\n",
    "\n",
    "# Период за агрегация (напр. '30min' за половин час, '1H' за час, '2H' за два часа)\n",
    "resample_period = '1H'\n",
    "\n",
    "# Изпълнение на функцията\n",
    "summarize_traffic_data(input_file, output_file, resample_period)\n"
   ],
   "id": "1a8fb55c44ccd19",
   "outputs": [
    {
     "name": "stdout",
     "output_type": "stream",
     "text": [
      "Обобщените данни са записани в ../result_data_files/summarized_traffic_data_1H.csv.\n"
     ]
    }
   ],
   "execution_count": 2
  },
  {
   "metadata": {},
   "cell_type": "code",
   "outputs": [],
   "execution_count": null,
   "source": "",
   "id": "e0fcdd94c96568b0"
  }
 ],
 "metadata": {
  "kernelspec": {
   "display_name": "Python 3",
   "language": "python",
   "name": "python3"
  },
  "language_info": {
   "codemirror_mode": {
    "name": "ipython",
    "version": 2
   },
   "file_extension": ".py",
   "mimetype": "text/x-python",
   "name": "python",
   "nbconvert_exporter": "python",
   "pygments_lexer": "ipython2",
   "version": "2.7.6"
  }
 },
 "nbformat": 4,
 "nbformat_minor": 5
}
