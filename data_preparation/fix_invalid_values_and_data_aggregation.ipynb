{
 "cells": [
  {
   "cell_type": "code",
   "outputs": [],
   "source": [
    "import pandas as pd\n",
    "import numpy as np\n",
    "import matplotlib.pyplot as plt\n",
    "import seaborn as sns\n",
    "from sklearn.mixture import GaussianMixture\n",
    "import warnings\n",
    "warnings.filterwarnings(\"ignore\")\n"
   ],
   "metadata": {
    "collapsed": false,
    "ExecuteTime": {
     "end_time": "2024-12-20T09:28:00.901861200Z",
     "start_time": "2024-12-20T09:28:00.674478900Z"
    }
   },
   "id": "2a612b8b278df8a",
   "execution_count": 2
  },
  {
   "cell_type": "code",
   "outputs": [],
   "source": [
    "data_path = \"../result_data_files/corrected_length.csv\"\n",
    "df = pd.read_csv(data_path)"
   ],
   "metadata": {
    "collapsed": false,
    "ExecuteTime": {
     "end_time": "2024-12-20T09:28:08.016961600Z",
     "start_time": "2024-12-20T09:28:00.901861200Z"
    }
   },
   "id": "b226d0f0aa224683",
   "execution_count": 3
  },
  {
   "cell_type": "code",
   "outputs": [],
   "source": [
    "def replace_values(df, column_name, replace_with, min, max):\n",
    "    # Замяна на стойности по-малки или равни на 0\n",
    "    df[column_name] = df[column_name].apply(lambda x: replace_with if x <= min else x)\n",
    "    \n",
    "    # Замяна на стойности, равни на 255\n",
    "    df[column_name] = df[column_name].apply(lambda x: replace_with if x >= max else x)\n",
    "    \n",
    "    return df"
   ],
   "metadata": {
    "collapsed": false,
    "ExecuteTime": {
     "end_time": "2024-12-20T09:28:08.028985600Z",
     "start_time": "2024-12-20T09:28:08.017961300Z"
    }
   },
   "id": "fe6be355808fdbc0",
   "execution_count": 4
  },
  {
   "cell_type": "code",
   "outputs": [],
   "source": [
    "df = replace_values(df, 'Скорост', np.nan, 0, 255)"
   ],
   "metadata": {
    "collapsed": false,
    "ExecuteTime": {
     "end_time": "2024-12-20T09:28:09.599981Z",
     "start_time": "2024-12-20T09:28:08.022985Z"
    }
   },
   "id": "ac1a0597c884b5fe",
   "execution_count": 5
  },
  {
   "cell_type": "code",
   "outputs": [],
   "source": [
    "df = replace_values(df, 'Тегло', np.nan, 0, 115000)"
   ],
   "metadata": {
    "collapsed": false,
    "ExecuteTime": {
     "end_time": "2024-12-20T09:28:11.223686200Z",
     "start_time": "2024-12-20T09:28:09.599981Z"
    }
   },
   "id": "e3d45f2919c38892",
   "execution_count": 6
  },
  {
   "cell_type": "code",
   "outputs": [],
   "source": [
    "df = replace_values(df, 'Дължина', np.nan, 1000, 20000)"
   ],
   "metadata": {
    "collapsed": false,
    "ExecuteTime": {
     "end_time": "2024-12-20T09:28:12.864691700Z",
     "start_time": "2024-12-20T09:28:11.223686200Z"
    }
   },
   "id": "49bf712bb9f33e5e",
   "execution_count": 7
  },
  {
   "cell_type": "code",
   "outputs": [],
   "source": [
    "def edit_data(df_for_month):\n",
    "    df_for_month = replace_values(df_for_month, 'Скорост', np.nan, 0, 255)\n",
    "    df_for_month = replace_values(df_for_month, 'Тегло', np.nan, 0, 115000)\n",
    "    df_for_month = replace_values(df_for_month, 'Дължина', np.nan, 1000, 20000)\n",
    "    return df_for_month"
   ],
   "metadata": {
    "collapsed": false,
    "ExecuteTime": {
     "end_time": "2024-12-20T09:28:12.874522400Z",
     "start_time": "2024-12-20T09:28:12.865692300Z"
    }
   },
   "id": "b48ca785c8f4403b",
   "execution_count": 8
  },
  {
   "cell_type": "code",
   "outputs": [],
   "source": [
    "df_1 = edit_data(df)"
   ],
   "metadata": {
    "collapsed": false,
    "ExecuteTime": {
     "end_time": "2024-12-20T09:28:16.798676900Z",
     "start_time": "2024-12-20T09:28:12.869522600Z"
    }
   },
   "id": "a34aaa14d2e9583",
   "execution_count": 9
  },
  {
   "cell_type": "code",
   "outputs": [],
   "source": [
    "def resample_half_hour(df, datetime_column, columns_to_include, agg_funcs,how_much):\n",
    "    \n",
    "    # Увери се, че колоната с дата е във формат datetime\n",
    "    df[datetime_column] = pd.to_datetime(df[datetime_column])\n",
    "    \n",
    "    # Избиране само на необходимите колони\n",
    "    df = df[[datetime_column] + columns_to_include]\n",
    "    \n",
    "    # Задаване на колоната с дата като индекс\n",
    "    df.set_index(datetime_column, inplace=True)\n",
    "    \n",
    "    # Групиране на данните на всеки половин час и прилагане на агрегационни функции\n",
    "    df_resampled = df.resample(how_much).agg(agg_funcs)\n",
    "    \n",
    "    # Добавяне на нова колона с броя на записите за всеки интервал\n",
    "    df_resampled['Брой автомобили'] = df.resample(how_much).size()\n",
    "    \n",
    "    # Възстановяване на индекса като колона с дата\n",
    "    df_resampled = df_resampled.reset_index()\n",
    "\n",
    "    return df_resampled"
   ],
   "metadata": {
    "collapsed": false,
    "ExecuteTime": {
     "end_time": "2024-12-20T09:28:16.808579600Z",
     "start_time": "2024-12-20T09:28:16.800676500Z"
    }
   },
   "id": "29ff331471e54358",
   "execution_count": 10
  },
  {
   "cell_type": "code",
   "outputs": [],
   "source": [
    "how_much=[\"15min\",\"30min\",\"1H\",\"2H\",\"4H\",\"6H\",\"12H\",\"24H\"]\n",
    "for how_much_2 in how_much:\n",
    "    # Ресемплиране на данните с текущия елемент от масива how_much\n",
    "    df_resampled = resample_half_hour(\n",
    "        df_1, \n",
    "        'date', \n",
    "        columns_to_include=['Скорост', 'Тегло', 'Дължина'], \n",
    "        agg_funcs={'Скорост': 'mean', 'Тегло': 'mean', 'Дължина': 'mean'},how_much=how_much_2\n",
    "    )\n",
    "    \n",
    "    # Записване в CSV файл с име, базирано на текущия елемент\n",
    "    df_resampled.to_csv(\n",
    "        f'../aggregated_data_files/year_with_date_{how_much_2}.csv',\n",
    "        index=False, \n",
    "        date_format='%Y-%m-%d'\n",
    "    )\n",
    "    \n",
    "    # Записване в Excel файл с име, базирано на текущия елемент\n",
    "    df_resampled.to_excel(\n",
    "        f'../aggregated_data_files/year_with_date_final_{how_much_2}.xlsx',\n",
    "        index=False\n",
    "    )\n"
   ],
   "metadata": {
    "collapsed": false,
    "is_executing": true,
    "ExecuteTime": {
     "start_time": "2024-12-20T09:35:10.956146100Z"
    }
   },
   "id": "42f5e63dbe2fdd92",
   "execution_count": null
  },
  {
   "cell_type": "code",
   "outputs": [],
   "source": [],
   "metadata": {
    "collapsed": false,
    "ExecuteTime": {
     "start_time": "2024-12-20T09:28:16.842497700Z"
    }
   },
   "id": "359082ce8b9e783e",
   "execution_count": null
  },
  {
   "cell_type": "code",
   "outputs": [],
   "source": [],
   "metadata": {
    "collapsed": false,
    "ExecuteTime": {
     "start_time": "2024-12-20T09:28:16.843497700Z"
    }
   },
   "id": "411bc6c178af6655",
   "execution_count": null
  }
 ],
 "metadata": {
  "kernelspec": {
   "display_name": "Python 3",
   "language": "python",
   "name": "python3"
  },
  "language_info": {
   "codemirror_mode": {
    "name": "ipython",
    "version": 2
   },
   "file_extension": ".py",
   "mimetype": "text/x-python",
   "name": "python",
   "nbconvert_exporter": "python",
   "pygments_lexer": "ipython2",
   "version": "2.7.6"
  }
 },
 "nbformat": 4,
 "nbformat_minor": 5
}
