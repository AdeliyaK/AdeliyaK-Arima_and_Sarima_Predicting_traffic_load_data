{
 "cells": [
  {
   "cell_type": "code",
   "id": "initial_id",
   "metadata": {
    "collapsed": true,
    "ExecuteTime": {
     "end_time": "2024-12-20T21:06:51.333407Z",
     "start_time": "2024-12-20T21:06:49.342682Z"
    }
   },
   "source": [
    "import pandas as pd"
   ],
   "outputs": [],
   "execution_count": 1
  },
  {
   "cell_type": "code",
   "source": "data=pd.read_csv(\"../data_files/combined.csv\", low_memory=False)",
   "metadata": {
    "collapsed": false,
    "ExecuteTime": {
     "end_time": "2024-12-20T21:07:02.221880Z",
     "start_time": "2024-12-20T21:06:51.333407Z"
    }
   },
   "id": "524e4d21e27a879",
   "outputs": [],
   "execution_count": 2
  },
  {
   "cell_type": "code",
   "source": [
    "def normalize_length(data):\n",
    "    data['Дължина']=(data['Дължина']/100).astype(int)\n",
    "    data['Дължина']=data['Дължина']*100\n",
    "    return data"
   ],
   "metadata": {
    "collapsed": false,
    "ExecuteTime": {
     "end_time": "2024-12-20T21:07:02.226947Z",
     "start_time": "2024-12-20T21:07:02.221880Z"
    }
   },
   "id": "62f9d6dc49c7b03e",
   "outputs": [],
   "execution_count": 3
  },
  {
   "cell_type": "code",
   "source": [
    "def adjust_speed(data):\n",
    "    # Функция за изчисляване на модата с проверки за липса на мода или мода <= 500\n",
    "    data_func=data[data['Рег. номер']!=159785927043]\n",
    "    mode_speed = data_func.groupby('Рег. номер')['Дължина'].transform(lambda x: x.mode().loc[~(x.mode() == 0)].iloc[0] if not x.mode().loc[~(x.mode() == 0)].empty else x)\n",
    "    \n",
    "    # Заменяме стойностите в колоната 'Дължина' с модата\n",
    "    data_func['Дължина'] = mode_speed\n",
    "    data[data['Рег. номер']!=159785927043]=data_func\n",
    "    return data"
   ],
   "metadata": {
    "collapsed": false,
    "ExecuteTime": {
     "end_time": "2024-12-20T21:07:02.238334Z",
     "start_time": "2024-12-20T21:07:02.227993Z"
    }
   },
   "id": "c0f9700ee64479f9",
   "outputs": [],
   "execution_count": 4
  },
  {
   "cell_type": "code",
   "source": [
    "data=normalize_length(data)\n",
    "data=adjust_speed(data)"
   ],
   "metadata": {
    "collapsed": false,
    "ExecuteTime": {
     "end_time": "2024-12-20T21:11:46.654477Z",
     "start_time": "2024-12-20T21:07:02.239821Z"
    }
   },
   "id": "4d1131cb18447dee",
   "outputs": [
    {
     "name": "stderr",
     "output_type": "stream",
     "text": [
      "C:\\Users\\User\\AppData\\Local\\Temp\\ipykernel_6048\\2764342677.py:7: SettingWithCopyWarning: \n",
      "A value is trying to be set on a copy of a slice from a DataFrame.\n",
      "Try using .loc[row_indexer,col_indexer] = value instead\n",
      "\n",
      "See the caveats in the documentation: https://pandas.pydata.org/pandas-docs/stable/user_guide/indexing.html#returning-a-view-versus-a-copy\n",
      "  data_func['Дължина'] = mode_speed\n"
     ]
    }
   ],
   "execution_count": 5
  },
  {
   "cell_type": "code",
   "source": "data.to_csv(\"../result_data_files/corrected_length.csv\",index=False)",
   "metadata": {
    "collapsed": false,
    "ExecuteTime": {
     "end_time": "2024-12-20T21:12:12.695380Z",
     "start_time": "2024-12-20T21:11:46.654477Z"
    }
   },
   "id": "d8311d81da469cea",
   "outputs": [],
   "execution_count": 6
  },
  {
   "cell_type": "code",
   "source": [
    "data.sort_values(\"Рег. номер\")"
   ],
   "metadata": {
    "collapsed": false,
    "ExecuteTime": {
     "end_time": "2024-12-20T21:12:14.225508Z",
     "start_time": "2024-12-20T21:12:12.695380Z"
    }
   },
   "id": "21c4e15d6dc66b95",
   "outputs": [
    {
     "data": {
      "text/plain": [
       "                        date                    Дата        Посока  \\\n",
       "3932720  2023-04-01 14:17:00    1.4.2023 г. 14:17:56  Околовръстно   \n",
       "3869652  2023-04-09 14:22:00    9.4.2023 г. 14:22:25  Околовръстно   \n",
       "2151761  2023-12-25 17:48:00  25.12.2023 г. 17:48:32  Околовръстно   \n",
       "5084314  2023-06-18 12:36:00   18.6.2023 г. 12:36:01  Околовръстно   \n",
       "3072873  2023-03-05 10:36:00    5.3.2023 г. 10:36:23  Околовръстно   \n",
       "...                      ...                     ...           ...   \n",
       "5466870  2023-07-11 19:19:00   11.7.2023 г. 19:19:56  Околовръстно   \n",
       "2516968  2023-02-04 09:18:00     4.2.2023 г. 9:18:04  Околовръстно   \n",
       "4118842  2023-04-21 10:22:00   21.4.2023 г. 10:22:30  Околовръстно   \n",
       "3699560  2023-03-02 10:14:00    2.3.2023 г. 10:14:11  Околовръстно   \n",
       "2516199  2023-02-04 08:13:00     4.2.2023 г. 8:13:10  Околовръстно   \n",
       "\n",
       "                  Рег. номер Държава  Скорост  Клас Лента  Дължина  Тегло  \\\n",
       "3932720 -9223332642433533419      BG       42     1    L5     3400   1278   \n",
       "3869652 -9223302457772352244      BG       45     1    L5     2300   1596   \n",
       "2151761 -9223301578776881940      UA       38     1    L5     3500   1610   \n",
       "5084314 -9223218506340578710      BG       37     1    L5     3900   1804   \n",
       "3072873 -9223192215423856110      BG       46     1    L5     2200   1419   \n",
       "...                      ...     ...      ...   ...   ...      ...    ...   \n",
       "5466870  9223292934018461566      FR       45     1    L5     3300    942   \n",
       "2516968  9223330479449652031      BG       46     1    L5     2200   1269   \n",
       "4118842  9223330479449652031      BG       45     1    L5     2200   1239   \n",
       "3699560  9223330479449652031     NaN       45     1    L6     2200   1587   \n",
       "2516199  9223330479449652031      BG       43     1    L5     2200   1291   \n",
       "\n",
       "         Дата_номер  \n",
       "3932720    1.595787  \n",
       "3869652    9.598900  \n",
       "2151761   25.742037  \n",
       "5084314   18.525012  \n",
       "3072873    5.441933  \n",
       "...             ...  \n",
       "5466870   11.805509  \n",
       "2516968    4.387546  \n",
       "4118842   21.432292  \n",
       "3699560    2.426516  \n",
       "2516199    4.342477  \n",
       "\n",
       "[6112507 rows x 11 columns]"
      ],
      "text/html": [
       "<div>\n",
       "<style scoped>\n",
       "    .dataframe tbody tr th:only-of-type {\n",
       "        vertical-align: middle;\n",
       "    }\n",
       "\n",
       "    .dataframe tbody tr th {\n",
       "        vertical-align: top;\n",
       "    }\n",
       "\n",
       "    .dataframe thead th {\n",
       "        text-align: right;\n",
       "    }\n",
       "</style>\n",
       "<table border=\"1\" class=\"dataframe\">\n",
       "  <thead>\n",
       "    <tr style=\"text-align: right;\">\n",
       "      <th></th>\n",
       "      <th>date</th>\n",
       "      <th>Дата</th>\n",
       "      <th>Посока</th>\n",
       "      <th>Рег. номер</th>\n",
       "      <th>Държава</th>\n",
       "      <th>Скорост</th>\n",
       "      <th>Клас</th>\n",
       "      <th>Лента</th>\n",
       "      <th>Дължина</th>\n",
       "      <th>Тегло</th>\n",
       "      <th>Дата_номер</th>\n",
       "    </tr>\n",
       "  </thead>\n",
       "  <tbody>\n",
       "    <tr>\n",
       "      <th>3932720</th>\n",
       "      <td>2023-04-01 14:17:00</td>\n",
       "      <td>1.4.2023 г. 14:17:56</td>\n",
       "      <td>Околовръстно</td>\n",
       "      <td>-9223332642433533419</td>\n",
       "      <td>BG</td>\n",
       "      <td>42</td>\n",
       "      <td>1</td>\n",
       "      <td>L5</td>\n",
       "      <td>3400</td>\n",
       "      <td>1278</td>\n",
       "      <td>1.595787</td>\n",
       "    </tr>\n",
       "    <tr>\n",
       "      <th>3869652</th>\n",
       "      <td>2023-04-09 14:22:00</td>\n",
       "      <td>9.4.2023 г. 14:22:25</td>\n",
       "      <td>Околовръстно</td>\n",
       "      <td>-9223302457772352244</td>\n",
       "      <td>BG</td>\n",
       "      <td>45</td>\n",
       "      <td>1</td>\n",
       "      <td>L5</td>\n",
       "      <td>2300</td>\n",
       "      <td>1596</td>\n",
       "      <td>9.598900</td>\n",
       "    </tr>\n",
       "    <tr>\n",
       "      <th>2151761</th>\n",
       "      <td>2023-12-25 17:48:00</td>\n",
       "      <td>25.12.2023 г. 17:48:32</td>\n",
       "      <td>Околовръстно</td>\n",
       "      <td>-9223301578776881940</td>\n",
       "      <td>UA</td>\n",
       "      <td>38</td>\n",
       "      <td>1</td>\n",
       "      <td>L5</td>\n",
       "      <td>3500</td>\n",
       "      <td>1610</td>\n",
       "      <td>25.742037</td>\n",
       "    </tr>\n",
       "    <tr>\n",
       "      <th>5084314</th>\n",
       "      <td>2023-06-18 12:36:00</td>\n",
       "      <td>18.6.2023 г. 12:36:01</td>\n",
       "      <td>Околовръстно</td>\n",
       "      <td>-9223218506340578710</td>\n",
       "      <td>BG</td>\n",
       "      <td>37</td>\n",
       "      <td>1</td>\n",
       "      <td>L5</td>\n",
       "      <td>3900</td>\n",
       "      <td>1804</td>\n",
       "      <td>18.525012</td>\n",
       "    </tr>\n",
       "    <tr>\n",
       "      <th>3072873</th>\n",
       "      <td>2023-03-05 10:36:00</td>\n",
       "      <td>5.3.2023 г. 10:36:23</td>\n",
       "      <td>Околовръстно</td>\n",
       "      <td>-9223192215423856110</td>\n",
       "      <td>BG</td>\n",
       "      <td>46</td>\n",
       "      <td>1</td>\n",
       "      <td>L5</td>\n",
       "      <td>2200</td>\n",
       "      <td>1419</td>\n",
       "      <td>5.441933</td>\n",
       "    </tr>\n",
       "    <tr>\n",
       "      <th>...</th>\n",
       "      <td>...</td>\n",
       "      <td>...</td>\n",
       "      <td>...</td>\n",
       "      <td>...</td>\n",
       "      <td>...</td>\n",
       "      <td>...</td>\n",
       "      <td>...</td>\n",
       "      <td>...</td>\n",
       "      <td>...</td>\n",
       "      <td>...</td>\n",
       "      <td>...</td>\n",
       "    </tr>\n",
       "    <tr>\n",
       "      <th>5466870</th>\n",
       "      <td>2023-07-11 19:19:00</td>\n",
       "      <td>11.7.2023 г. 19:19:56</td>\n",
       "      <td>Околовръстно</td>\n",
       "      <td>9223292934018461566</td>\n",
       "      <td>FR</td>\n",
       "      <td>45</td>\n",
       "      <td>1</td>\n",
       "      <td>L5</td>\n",
       "      <td>3300</td>\n",
       "      <td>942</td>\n",
       "      <td>11.805509</td>\n",
       "    </tr>\n",
       "    <tr>\n",
       "      <th>2516968</th>\n",
       "      <td>2023-02-04 09:18:00</td>\n",
       "      <td>4.2.2023 г. 9:18:04</td>\n",
       "      <td>Околовръстно</td>\n",
       "      <td>9223330479449652031</td>\n",
       "      <td>BG</td>\n",
       "      <td>46</td>\n",
       "      <td>1</td>\n",
       "      <td>L5</td>\n",
       "      <td>2200</td>\n",
       "      <td>1269</td>\n",
       "      <td>4.387546</td>\n",
       "    </tr>\n",
       "    <tr>\n",
       "      <th>4118842</th>\n",
       "      <td>2023-04-21 10:22:00</td>\n",
       "      <td>21.4.2023 г. 10:22:30</td>\n",
       "      <td>Околовръстно</td>\n",
       "      <td>9223330479449652031</td>\n",
       "      <td>BG</td>\n",
       "      <td>45</td>\n",
       "      <td>1</td>\n",
       "      <td>L5</td>\n",
       "      <td>2200</td>\n",
       "      <td>1239</td>\n",
       "      <td>21.432292</td>\n",
       "    </tr>\n",
       "    <tr>\n",
       "      <th>3699560</th>\n",
       "      <td>2023-03-02 10:14:00</td>\n",
       "      <td>2.3.2023 г. 10:14:11</td>\n",
       "      <td>Околовръстно</td>\n",
       "      <td>9223330479449652031</td>\n",
       "      <td>NaN</td>\n",
       "      <td>45</td>\n",
       "      <td>1</td>\n",
       "      <td>L6</td>\n",
       "      <td>2200</td>\n",
       "      <td>1587</td>\n",
       "      <td>2.426516</td>\n",
       "    </tr>\n",
       "    <tr>\n",
       "      <th>2516199</th>\n",
       "      <td>2023-02-04 08:13:00</td>\n",
       "      <td>4.2.2023 г. 8:13:10</td>\n",
       "      <td>Околовръстно</td>\n",
       "      <td>9223330479449652031</td>\n",
       "      <td>BG</td>\n",
       "      <td>43</td>\n",
       "      <td>1</td>\n",
       "      <td>L5</td>\n",
       "      <td>2200</td>\n",
       "      <td>1291</td>\n",
       "      <td>4.342477</td>\n",
       "    </tr>\n",
       "  </tbody>\n",
       "</table>\n",
       "<p>6112507 rows × 11 columns</p>\n",
       "</div>"
      ]
     },
     "execution_count": 7,
     "metadata": {},
     "output_type": "execute_result"
    }
   ],
   "execution_count": 7
  },
  {
   "cell_type": "code",
   "source": [],
   "metadata": {
    "collapsed": false,
    "ExecuteTime": {
     "end_time": "2024-12-20T21:12:14.228361Z",
     "start_time": "2024-12-20T21:12:14.225508Z"
    }
   },
   "id": "1f6377934b501eb",
   "outputs": [],
   "execution_count": 7
  }
 ],
 "metadata": {
  "kernelspec": {
   "display_name": "Python 3",
   "language": "python",
   "name": "python3"
  },
  "language_info": {
   "codemirror_mode": {
    "name": "ipython",
    "version": 2
   },
   "file_extension": ".py",
   "mimetype": "text/x-python",
   "name": "python",
   "nbconvert_exporter": "python",
   "pygments_lexer": "ipython2",
   "version": "2.7.6"
  }
 },
 "nbformat": 4,
 "nbformat_minor": 5
}
